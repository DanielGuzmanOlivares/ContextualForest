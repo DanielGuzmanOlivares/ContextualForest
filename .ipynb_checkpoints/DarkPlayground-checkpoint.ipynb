{
 "cells": [
  {
   "cell_type": "markdown",
   "metadata": {},
   "source": [
    "## The Dark Playground"
   ]
  },
  {
   "cell_type": "markdown",
   "metadata": {},
   "source": [
    "\n",
    "The Dark Playground is the place I go when I want to experiment with new theories and programs, it's a place that encourages forgot your plans and just dive into your own ideas. Remember that to discover the unknown one needs to travel without a schedule."
   ]
  },
  {
   "cell_type": "markdown",
   "metadata": {},
   "source": [
    "### Detecting fake news"
   ]
  },
  {
   "cell_type": "markdown",
   "metadata": {},
   "source": [
    "Detecting fake news can be a really challenging task to perform even if you are not silicon-based, nowdays researchers just use huge (no, really, like a hundred billion parameters) neural networks making the training process effectively unrealizable for us the mere mortal laptop users. This means we will end up using a pre-trained model and we won't get even close to decide which training data our models will be based on. This is the first thing that should have tipped us off about something that have been comming out wrong in this kind of learning, and indeed, there is: now more than ever it's obvious that the models do NOT learn, they just reproduce statistical patterns inferred from their training sets.\n",
    "\n",
    "It's obvious that the core part of any fake news detecting algorithm is the NLP technique used to \"understand\" the news, but if the models are not understanding, what do they predict?\n",
    "And ironically that question is also the answer to why the so called fake news automatic detectors of big companies are not working, they don't work because they've got a root problem, just ask yourselfs, you can't distinguish between a well-written fake new and a well-written genuine one, can you?\n",
    "\n",
    "That is why I'm proposing this system, because if we want to decide about the veracity of an article or a new, we need to understand it first, otherwise is just playing choice instead of chess."
   ]
  },
  {
   "cell_type": "code",
   "execution_count": null,
   "metadata": {},
   "outputs": [],
   "source": [
    "#Steps to knowledge representation of a sentence and testing:\n",
    "# 1. Getting parts of a phrase separated\n",
    "# 2. Disambiguate nouns and create nodes (and connected concepts, categories...) with them (wikipedia + babelnet)\n",
    "# 3. Look up verb in Wordnet or babelnet and make connections\n",
    "# 4. Give nodes attributes and weights (?) according to adjectives\n",
    "# 5. Use preopositions and temporal frame to more information\n",
    "#Question understanding\n",
    "# 1. Transform question into query\n",
    "# 2. Query the system\n",
    "\n",
    "#If you get this far, you are a god damn genius, publish it, now."
   ]
  }
 ],
 "metadata": {
  "kernelspec": {
   "display_name": "Python 3",
   "language": "python",
   "name": "python3"
  },
  "language_info": {
   "codemirror_mode": {
    "name": "ipython",
    "version": 3
   },
   "file_extension": ".py",
   "mimetype": "text/x-python",
   "name": "python",
   "nbconvert_exporter": "python",
   "pygments_lexer": "ipython3",
   "version": "3.7.7"
  }
 },
 "nbformat": 4,
 "nbformat_minor": 2
}
