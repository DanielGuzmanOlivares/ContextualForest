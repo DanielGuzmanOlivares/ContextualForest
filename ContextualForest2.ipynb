{
 "cells": [
  {
   "cell_type": "markdown",
   "metadata": {},
   "source": [
    "# Contextual Forests V2"
   ]
  },
  {
   "cell_type": "markdown",
   "metadata": {},
   "source": [
    "### 1. BabelNet Iinterface"
   ]
  },
  {
   "cell_type": "code",
   "execution_count": 24,
   "metadata": {},
   "outputs": [
    {
     "data": {
      "text/plain": [
       "'Apple were a British psychedelic rock band. The band was founded in Cardiff in 1968 by Rob Ingram on guitar and Jeff Harrad on bass. They released a single LP in 1969, titled An Apple a Day. The album was a commercial failure, and the band ceased to exist shortly after its release. However, during the subsequent years several tracks from the LP, most notably \"The Otherside\" by Harrad, were dubbed classics of British psychedelic rock by critics, making An Apple a Day one of the most sought-after British psychedelic rarities.\\nThe original vinyl version (released by Page One Records) is now extremely hard to find. A reissue by Repertoire Records was released in 1994, which included several bonus songs (those being early mono versions of some of the album\\'s tracks).\\n\\nMembers\\nDennis Regan, vocals\\nRobbo Ingram, guitar\\nJeff Harrad, bass\\nCharlie Barber, piano\\nDave Brassington, drums\\n\\nDiscography\\nAlbums\\nAn Apple a Day (Page One POLS 016) 1969\\n\\nSingles\\n\"Thank You Very Much\" / \"Your Heart is Free Just Like the Wind\" (Smash S2143) 1968\\n\"Thank You Very Much\" / \"Your Heart is Free Just Like the Wind\" (Philips 320 269 BF, Netherlands) 1968\\n\"Buffalo Billycan\" / \"Let\\'s Take a Trip Down The Rhine\" (Page One POF 409) 1968\\n\"Doctor Rock\" / \"The Otherside\" (Page One POF 110) 1968\\n\\nExternal links\\nMagic in the Air – Apple'"
      ]
     },
     "execution_count": 24,
     "metadata": {},
     "output_type": "execute_result"
    }
   ],
   "source": [
    "import requests\n",
    "import json\n",
    "import wikipediaapi\n",
    "\n",
    "#GLOBAL VARIABLES\n",
    "wiki = wikipediaapi.Wikipedia('en')\n",
    "KEY  = 'b361cac5-2b53-40a8-8df8-6a2cfb140491' #Register in BabelNet to get one\n",
    "BASE = 'https://babelnet.io/v5'\n",
    "API = {\n",
    "    \"get_info\": \"getSynset\",\n",
    "    \"get_synsets\":\"getSynsetIds\",\n",
    "    \"get_relations\":\"getOutgoingEdges\"\n",
    "}\n",
    "\n",
    "def __format_arguments(args):\n",
    "    \"\"\"\n",
    "    Desc: Returns a formatted string for making an HTML request\n",
    "    Params: - args (dict): dictionary for params values, format is {paramName:paramValue ...}\n",
    "    Returns: (String) formatted string\n",
    "    \"\"\"\n",
    "    return \"&\".join([\"{}={}\".format(key,value) for key,value in args.items()])\n",
    "\n",
    "def __make_request(args,op,verbose=False):\n",
    "    \"\"\"\n",
    "    Desc: Makes arequest to BabelNet API given a parametters dictionary\n",
    "    Params: - args (dict): dictionary for params values, format is {paramName:paramValue ...}\n",
    "            - op (string): operation, choose between {get_info,get_synsets,get_relations}\n",
    "            - verbose (bool): show messages \n",
    "    Returns: (Dict) BabelNet's API response\n",
    "    \"\"\"\n",
    "    args[\"key\"] = KEY\n",
    "    args[\"targetLang\"] = \"EN\"\n",
    "    r = requests.get(\"{}/{}?{}\".format(BASE,API[op],__format_arguments(args)))\n",
    "    if verbose:\n",
    "        print(\"Status code: {}\".format(r.status_code))\n",
    "    return r.json() if r.ok else None\n",
    "\n",
    "def synset_info(synset_id,verbose=False):\n",
    "    \"\"\"\n",
    "    Desc: Returns the information associated with a BabelNet synset\n",
    "    Params: - synset_id (String): BabelNet synset id\n",
    "            - verbose (bool): show messages \n",
    "    Returns: (Dict) BabelNet's sysnset information\n",
    "    \"\"\"\n",
    "    return __make_request({\"id\":synset_id},\"get_info\",verbose)\n",
    "\n",
    "def synset_relations(synset_id,verbose=False):\n",
    "    \"\"\"\n",
    "    Desc: Returns the outgoing semantic relations of a synset\n",
    "    Params: - synset_id (String): BabelNet synset id\n",
    "            - verbose (bool): show messages \n",
    "    Returns: (Dict) BabelNet's sysnset outgoing conexions\n",
    "    \"\"\"\n",
    "    return __make_request({\"id\":synset_id},\"get_relations\",verbose)\n",
    "   \n",
    "def general_categories(synset_id):\n",
    "    \"\"\"  \n",
    "    Desc: Returns the ids of the general categories a synset belongs to\n",
    "    Params: - synset_id (String): BabelNet synset id\n",
    "    Returns: (List)[String] ids \n",
    "    \"\"\"\n",
    "    categories = [relation[\"target\"] for relation in synset_relations(synset_id) \n",
    "                  if relation[\"pointer\"][\"shortName\"] in [\"is-a\",\"part_of\",\"subclass_of\"]]\n",
    "    res = []\n",
    "    for cat in categories:\n",
    "        try:\n",
    "            res.append(synset_info(cat)[\"senses\"][0][\"properties\"][\"synsetID\"][\"id\"] )\n",
    "        except IndexError:\n",
    "            continue\n",
    "    return res\n",
    "\n",
    "def wiki_page(synset_id):\n",
    "    \"\"\"  \n",
    "    Desc: Return the wikipedia page associated with a synset id\n",
    "    Params: - synset_id (String): BabelNet synset id\n",
    "    Returns: (Wikipediaapi.Page) wikipedia page object\n",
    "    \"\"\"\n",
    "    synset = synset_info(synset_id)\n",
    "    for sense in synset[\"senses\"]:\n",
    "        if sense['properties'][\"source\"] == \"WIKI\":\n",
    "            return wiki.page(sense['properties'][\"fullLemma\"].replace(\"_\",\" \"))\n",
    "        else:\n",
    "            continue\n",
    "    return None\n",
    "        \n",
    "\n",
    "def search_synsets(lemma,pos,searchLang=\"EN\",verbose=False):\n",
    "    \"\"\"  \n",
    "    Desc: Returns the ids of possible synsets associated to the provided word\n",
    "    Params: - lemma (String): word for searching\n",
    "            - pos (String): position (NOUN,VERB ...)\n",
    "            - searchLang (String): language for search and results\n",
    "            - verbose (bool): show messages \n",
    "    Returns: (List)[String]: ids \n",
    "    \"\"\"\n",
    "    args = {\n",
    "        \"lemma\":lemma,\n",
    "        \"pos\":pos,\n",
    "        \"searchLang\":searchLang,\n",
    "        \"key\":KEY\n",
    "    }\n",
    "    return [ele[\"id\"] for ele in __make_request(args,\"get_synsets\",verbose)]\n",
    "\n",
    "\n",
    "#search_synsets(\"apple\",\"NOUN\")   \n",
    "#general_categories(\"bn:00289737n\")\n",
    "#wiki_page(\"bn:00289737n\").text\n",
    "\n",
    "        \n",
    "    \n",
    "                   "
   ]
  },
  {
   "cell_type": "markdown",
   "metadata": {},
   "source": [
    "### From terms to targetted texts"
   ]
  },
  {
   "cell_type": "code",
   "execution_count": null,
   "metadata": {},
   "outputs": [],
   "source": []
  }
 ],
 "metadata": {
  "kernelspec": {
   "display_name": "Python 3",
   "language": "python",
   "name": "python3"
  },
  "language_info": {
   "codemirror_mode": {
    "name": "ipython",
    "version": 3
   },
   "file_extension": ".py",
   "mimetype": "text/x-python",
   "name": "python",
   "nbconvert_exporter": "python",
   "pygments_lexer": "ipython3",
   "version": "3.7.7"
  }
 },
 "nbformat": 4,
 "nbformat_minor": 2
}
