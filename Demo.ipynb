{
 "cells": [
  {
   "cell_type": "code",
   "execution_count": null,
   "source": [],
   "outputs": [],
   "metadata": {}
  },
  {
   "cell_type": "code",
   "execution_count": 1,
   "source": [
    "from ContextualForest import *"
   ],
   "outputs": [],
   "metadata": {}
  },
  {
   "cell_type": "code",
   "execution_count": 2,
   "source": [
    "disambiguation('Bohemian Rhapsody')"
   ],
   "outputs": [
    {
     "output_type": "execute_result",
     "data": {
      "text/plain": [
       "['Bohemian Rhapsody',\n",
       " \"Bohemian Rhapsody (That '70s Show)\",\n",
       " 'Bohemian Rhapsody (The Muppets)',\n",
       " 'Bohemian Rhapsody (film)',\n",
       " 'The Story of Bohemian Rhapsody']"
      ]
     },
     "metadata": {},
     "execution_count": 2
    }
   ],
   "metadata": {}
  },
  {
   "cell_type": "code",
   "execution_count": 2,
   "source": [
    "text = wiki.page('bohemian rhapsody').text"
   ],
   "outputs": [],
   "metadata": {}
  },
  {
   "cell_type": "code",
   "execution_count": 3,
   "source": [
    "d = set_relevance(*stem_text(text))"
   ],
   "outputs": [],
   "metadata": {}
  },
  {
   "cell_type": "code",
   "execution_count": 6,
   "source": [
    "fr = contextual_forest(\"the FDA has approved the first shot for COVID-19\")"
   ],
   "outputs": [],
   "metadata": {}
  },
  {
   "cell_type": "code",
   "execution_count": 9,
   "source": [
    "print(fr.dic[\"fda\"].page.text[:100])\n",
    "print(fr.dic[\"covid-19\"].page.text[:100])"
   ],
   "outputs": [
    {
     "output_type": "stream",
     "name": "stdout",
     "text": [
      "The United States Food and Drug Administration (FDA or USFDA) is a federal agency of the Department \n",
      "Coronavirus disease 2019 (COVID-19) is a contagious disease caused by severe acute respiratory syndr\n"
     ]
    }
   ],
   "metadata": {}
  },
  {
   "cell_type": "code",
   "execution_count": 2,
   "source": [
    "f1 = Forest([\"Cat food\",\"Dog\"])\n",
    "\"\"\"\n",
    "while not f.Q.empty():\n",
    "    sim,u,v,t1,t2 = f.Q.get()\n",
    "    print(\"sim:{},node:{},node:{}\".format(sim,u.page.title,v.page.title))\"\"\"\n",
    "f1.disambiguate()\n",
    "f1.recover_words()"
   ],
   "outputs": [],
   "metadata": {}
  },
  {
   "cell_type": "code",
   "execution_count": 17,
   "source": [
    "wiki.page('shot (disambiguation)').links.keys()"
   ],
   "outputs": [
    {
     "output_type": "execute_result",
     "data": {
      "text/plain": [
       "dict_keys(['Armor-piercing shot and shell', 'Buckshot', 'Cricket shots', 'Fathom', 'Furlong', 'Gruntruck', 'Gunshot', 'Home run', 'Moonshot (disambiguation)', 'Round shot', 'SHOT Show', 'Serious Hazards of Transfusion', \"Sho't\", 'Shoot (disambiguation)', 'Shooter (disambiguation)', 'Shooter (drink)', 'Shooting', 'Shooting (association football)', 'Shot (2017 film)', 'Shot (album)', 'Shot (filmmaking)', 'Shot (ice hockey)', 'Shot (medicine)', 'Shot (pellet)', 'Shot (song)', 'Shot Rev 2.0', 'Shot glass', 'Shot put', 'Shot silk', 'Shots (disambiguation)', 'Showt', 'Society for the History of Technology', 'The Shot (disambiguation)', 'Talk:Shot', 'Help:Disambiguation'])"
      ]
     },
     "metadata": {},
     "execution_count": 17
    }
   ],
   "metadata": {}
  },
  {
   "cell_type": "code",
   "execution_count": 3,
   "source": [
    "disambiguation('shot')"
   ],
   "outputs": [
    {
     "output_type": "execute_result",
     "data": {
      "text/plain": [
       "['Armor-piercing shot and shell',\n",
       " 'Buckshot',\n",
       " 'Cricket shots',\n",
       " 'Gunshot',\n",
       " 'Round shot',\n",
       " 'SHOT Show',\n",
       " 'Shot (2017 film)',\n",
       " 'Shot (album)',\n",
       " 'Shot (filmmaking)',\n",
       " 'Shot (ice hockey)',\n",
       " 'Shot (medicine)',\n",
       " 'Shot (pellet)',\n",
       " 'Shot (song)',\n",
       " 'Shot Rev 2.0',\n",
       " 'Shot glass',\n",
       " 'Shot put',\n",
       " 'Shot silk']"
      ]
     },
     "metadata": {},
     "execution_count": 3
    }
   ],
   "metadata": {}
  },
  {
   "cell_type": "code",
   "execution_count": 16,
   "source": [
    "N = 10000000\n",
    "d = {a : None for a in range(N)}\n"
   ],
   "outputs": [],
   "metadata": {}
  },
  {
   "cell_type": "code",
   "execution_count": 17,
   "source": [
    "%time\n",
    "N in d"
   ],
   "outputs": [
    {
     "output_type": "stream",
     "name": "stdout",
     "text": [
      "CPU times: user 2 µs, sys: 0 ns, total: 2 µs\n",
      "Wall time: 6.2 µs\n"
     ]
    },
    {
     "output_type": "execute_result",
     "data": {
      "text/plain": [
       "False"
      ]
     },
     "metadata": {},
     "execution_count": 17
    }
   ],
   "metadata": {}
  },
  {
   "cell_type": "code",
   "execution_count": 18,
   "source": [
    "%time\n",
    "d[N]"
   ],
   "outputs": [
    {
     "output_type": "stream",
     "name": "stdout",
     "text": [
      "CPU times: user 3 µs, sys: 1e+03 ns, total: 4 µs\n",
      "Wall time: 5.96 µs\n"
     ]
    },
    {
     "output_type": "error",
     "ename": "KeyError",
     "evalue": "10000000",
     "traceback": [
      "\u001b[0;31m---------------------------------------------------------------------------\u001b[0m",
      "\u001b[0;31mKeyError\u001b[0m                                  Traceback (most recent call last)",
      "\u001b[0;32m<ipython-input-18-00b202bbe577>\u001b[0m in \u001b[0;36m<module>\u001b[0;34m\u001b[0m\n\u001b[1;32m      1\u001b[0m \u001b[0mget_ipython\u001b[0m\u001b[0;34m(\u001b[0m\u001b[0;34m)\u001b[0m\u001b[0;34m.\u001b[0m\u001b[0mrun_line_magic\u001b[0m\u001b[0;34m(\u001b[0m\u001b[0;34m'time'\u001b[0m\u001b[0;34m,\u001b[0m \u001b[0;34m''\u001b[0m\u001b[0;34m)\u001b[0m\u001b[0;34m\u001b[0m\u001b[0;34m\u001b[0m\u001b[0m\n\u001b[0;32m----> 2\u001b[0;31m \u001b[0md\u001b[0m\u001b[0;34m[\u001b[0m\u001b[0mN\u001b[0m\u001b[0;34m]\u001b[0m\u001b[0;34m\u001b[0m\u001b[0;34m\u001b[0m\u001b[0m\n\u001b[0m",
      "\u001b[0;31mKeyError\u001b[0m: 10000000"
     ]
    }
   ],
   "metadata": {}
  },
  {
   "cell_type": "code",
   "execution_count": null,
   "source": [
    "\"\"\"class Forest():\n",
    "    \"\"\" Implementation of the contextual forest main data structure for \n",
    "        context-based semantic disambiguation.\n",
    "\n",
    "        Attributes\n",
    "        ----------\n",
    "        words : list of str\n",
    "            The keywords to disambiguate\n",
    "        trees : dict\n",
    "            Mapping between ContextualForest.Tree objects and the root nodes\n",
    "            associated with that tree objects.\n",
    "        dic : dict\n",
    "            Mapping between the words provided to disambiguate and root nodes\n",
    "            associated with tree objects formed in the disambiguation process.\n",
    "        connections : dict\n",
    "            Where keys are combinations of two possible trees and values are \n",
    "            boolean indicating wether or not the pair of trees is connected.\n",
    "        Q : queue.PriorityQueue\n",
    "            The priority queue structure to manage connections and expansion order\n",
    "        Methods\n",
    "        -------\n",
    "        disambiguate()\n",
    "            Performs the disambiguation process (forward).\n",
    "        recover_words()\n",
    "            Recovers words synsets once the disambiguation process has completed.\n",
    "    \"\"\"\n",
    "    def __init__(self,words):\n",
    "        self.words = None\n",
    "        self.trees = {}\n",
    "        self.dic = {}\n",
    "        for word in words:\n",
    "            self.dic[word] = None\n",
    "            self.trees[Tree(word)]= None\n",
    "        self.tree_combs = itertools.combinations(self.trees,2) #possible pairs of trees\n",
    "        self.connections = {pair:False for pair in self.tree_combs}\n",
    "        self.Q = pq()\n",
    "        for tree1,tree2 in self.tree_combs:\n",
    "            for u in tree1.to_expand:\n",
    "                for v in tree2.to_expand:\n",
    "                    sim = -u.similarity(v) #negative because pq orders naturally\n",
    "                    if sim == 0:\n",
    "                        continue\n",
    "                    self.Q.put((sim,u,v,tree1,tree2)) # (similarity, node_1, node_2, tree_1, tree_2)\n",
    "\n",
    "    def disambiguate(self):\n",
    "        \"\"\" Performs the forward disambiguation process expanding the nodes till\n",
    "            all trees are connected by a path.\n",
    "        \"\"\"\n",
    "        #while the are connections to check or some tree is not connected\n",
    "        while not all(self.connections.values()) and not self.Q.empty(): \n",
    "            _,u,v,t1,t2 = self.Q.get()\n",
    "            key = (t1,t2) if (t1,t2) in self.connections else (t2,t1) #depends on itertools\n",
    "            while self.connections[key]:\n",
    "                #while key belongs to an already connectyed tree, pop from pq\n",
    "                _,u,v,t1,t2 = self.Q.get()\n",
    "                key  =  (t1,t2) if (t1,t2) in self.connections else (t2,t1)\n",
    "            #expand both nodes\n",
    "            news_t1 = t1.expand_node(u)\n",
    "            news_t2 = t2.expand_node(v)\n",
    "            #check for intersection\n",
    "            if any([True if n in t2.to_expand else False for n in t1.to_expand]):\n",
    "                self.connections[key] = True\n",
    "                if self.trees[t1] == None:\n",
    "                    self.trees[t1] = u.root\n",
    "                if self.trees[t2] == None:\n",
    "                    self.trees[t2] = v.root\n",
    "            else: #no connection, add new nodes\n",
    "                #expansion:\n",
    "                for u in news_t1:\n",
    "                    for v in news_t2:\n",
    "                        sim = -u.similarity(v)\n",
    "                        if sim == 0:\n",
    "                            continue\n",
    "                        self.Q.put((sim,u,v,t1,t2))\n",
    "                           \n",
    "    def recover_words(self):\n",
    "        \"\"\" Recovers the Nodes associated with the disambiguation of every word provided\n",
    "            in the instanziation of the class and stores it in the `dic` attribute.\n",
    "        \"\"\"\n",
    "        found = False\n",
    "        for tree,node in self.trees.items():\n",
    "            for link,page in node.page.links.items():\n",
    "                if tree.word.lower() == link.lower():\n",
    "                    self.dic[tree.word] =  Node(page,1)\n",
    "                    found = True\n",
    "            if not found:\n",
    "                connection = node\n",
    "                while connection.depth != 1:\n",
    "                    connection = connection.parent\n",
    "                self.dic[tree.word] = connection\n",
    "            found = False\n",
    "    \"\"\""
   ],
   "outputs": [],
   "metadata": {}
  }
 ],
 "metadata": {
  "orig_nbformat": 4,
  "language_info": {
   "name": "python",
   "version": "3.8.5",
   "mimetype": "text/x-python",
   "codemirror_mode": {
    "name": "ipython",
    "version": 3
   },
   "pygments_lexer": "ipython3",
   "nbconvert_exporter": "python",
   "file_extension": ".py"
  },
  "kernelspec": {
   "name": "python3",
   "display_name": "Python 3.8.5 64-bit ('base': conda)"
  },
  "interpreter": {
   "hash": "23ad5ed7b665870f317a43f19e6aaa05683df10ee402b5398f41f7e11f1aa8db"
  }
 },
 "nbformat": 4,
 "nbformat_minor": 2
}